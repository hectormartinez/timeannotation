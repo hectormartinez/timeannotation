{
 "cells": [
  {
   "cell_type": "code",
   "execution_count": 109,
   "metadata": {
    "collapsed": true
   },
   "outputs": [],
   "source": [
    "import pandas as pd\n",
    "import numpy as np\n",
    "import itertools\n",
    "from collections import Counter\n",
    "from scipy.stats import pearsonr as pearsonr\n",
    "from scipy.stats import skew as skew\n",
    "\n"
   ]
  },
  {
   "cell_type": "code",
   "execution_count": 115,
   "metadata": {
    "collapsed": false
   },
   "outputs": [],
   "source": [
    "def y_Ao(annotations):\n",
    "    total = 0.0\n",
    "    pairings = [x for x in itertools.combinations(annotations,2)]\n",
    "    for a1,a2 in pairings:\n",
    "        total+=int(a1==a2)\n",
    "    return total / len(pairings)\n",
    "\n",
    "\n",
    "class AnnotatedInstance:\n",
    "    def __init__(self):\n",
    "        self.leftcontext = ''\n",
    "        self.rightcontext = ''\n",
    "        self.headword = ''\n",
    "        self.labels = []\n",
    "        self.times = []\n",
    "        \n",
    "    def length(self):\n",
    "        return len((str(self.leftcontext)+\" \"+str(self.rightcontext)).split())\n",
    "    \n",
    "    def Ao(self):\n",
    "        return y_Ao(self.labels)\n",
    "    \n",
    "    def avg_time(self,threshold=100):\n",
    "        return [x for x in self.times if x < threshold]\n",
    "    \n",
    "    def _normlabels(self):\n",
    "        d = {}\n",
    "        d['ANIM']='LIT'\n",
    "        d['Category1']='LIT'\n",
    "        \n",
    "        d['MEAT']='MET'\n",
    "        d['Categpory2']='MET'\n",
    "        d['Category2']='MET'\n",
    "        \n",
    "        d['DOT']='DOT'\n",
    "        d['Category4']='DOT'\n",
    "        d['Category3']='DOT'\n",
    "        return [d[x] for x in self.labels]\n",
    "    \n",
    "    def label(self):\n",
    "        #LIT, MET, DOT\n",
    "        normlabels = self._normlabels()\n",
    "        if normlabels.count('LIT') > normlabels.count('MET') and normlabels.count('DOT') <= normlabels.count('LIT'):\n",
    "            return 'LIT'\n",
    "        if normlabels.count('MET') > normlabels.count('LIT') and normlabels.count('DOT') <= normlabels.count('MET'):\n",
    "            return 'MET'\n",
    "        else:\n",
    "            return 'DOT'\n",
    "        \n",
    "    def __str__(self):\n",
    "        return '-'.join([self.leftcontext,self.headword,self.rightcontext]+self.labels+[str(x) for x in self.times])\n",
    "    \n",
    "    \n",
    "def CreateInstanceDict(dataframe):\n",
    "    instancedict = {}\n",
    "    for hitid in set(dataframe.HITId):\n",
    "        inst = AnnotatedInstance()\n",
    "        inst.times = list(dataframe[dataframe.HITId==hitid].WorkTimeInSeconds)\n",
    "        inst.labels = list(dataframe[dataframe.HITId==hitid].Answer_Category)\n",
    "        inst.leftcontext = list(dataframe[dataframe.HITId==hitid].Input_lleftcontext)[0]\n",
    "        inst.rightcontext = list(dataframe[dataframe.HITId==hitid].Input_lrightcontext)[0]\n",
    "        inst.headword = list(dataframe[dataframe.HITId==hitid].Input_lheadword)[0]\n",
    "        instancedict[hitid]=inst\n",
    "    return instancedict\n",
    "        \n",
    "\n",
    "def Datasettime(instancedict):\n",
    "    t =[]\n",
    "    for k in instancedict:\n",
    "        t.extend(instancedict[k].times)\n",
    "    return t\n",
    "    \n",
    "def ReportDataset(instancedict):\n",
    "    alltimes = Datasettime(instancedict)\n",
    "    percentile95 =  np.percentile(alltimes, 95) #right-hand outliers filtered, remove anything above the 95th percentile\n",
    "    alltimes= [x for x in alltimes if x < percentile95]\n",
    "    \n",
    "    mean = np.mean(alltimes)\n",
    "    median = np.median(alltimes)\n",
    "    std = np.std(alltimes)\n",
    "    Ao_indiv_list = [instancedict[k].Ao() for k in instancedict.keys()]\n",
    "    Ao_avg = np.mean(Ao_indiv_list)\n",
    "    time_indiv_list =  [np.mean(instancedict[k].avg_time(percentile95)) for k in instancedict.keys()]\n",
    "    lenghts = [instancedict[k].length() for k in instancedict.keys()]\n",
    "    labels = [instancedict[k].label() for k in instancedict.keys()]\n",
    "    \n",
    "    return (mean, median, std,percentile95,Ao_avg,pearsonr(Ao_indiv_list,time_indiv_list),pearsonr(lenghts,time_indiv_list)[0],Counter(labels)['LIT'])\n",
    "    \n",
    "def getLiteral(inputlist):\n",
    "    litlabels = ['Category1', 'ANIM']\n",
    "    return [int(x in litlabels) for x in inputlist]\n",
    "\n"
   ]
  },
  {
   "cell_type": "code",
   "execution_count": 116,
   "metadata": {
    "collapsed": false
   },
   "outputs": [],
   "source": [
    "animeat = pd.read_csv('data/raw/animeatbatchresults.csv')\n",
    "contcont = pd.read_csv('data/raw/container_5turks.tab.csv',sep='\\t')\n",
    "artinfo = pd.read_csv('data/raw/artinfo_mturk_500.tab.csv',sep='\\t')\n",
    "procres = pd.read_csv('data/raw/procres_mturk.tab.csv',sep='\\t')\n",
    "locorg = pd.read_csv('data/raw/locorg_5turks.tab.csv',sep='\\t')"
   ]
  },
  {
   "cell_type": "code",
   "execution_count": 117,
   "metadata": {
    "collapsed": false
   },
   "outputs": [
    {
     "name": "stdout",
     "output_type": "stream",
     "text": [
      "animeat (7.1381878361605295, 6.0, 3.8495627455207746, 24.0, 0.85705882352941165, (-0.37962472276825499, 6.2812478301620924e-19), 0.30029217888812848, 362)\n",
      "artinfo (11.786038826931021, 10.0, 9.0720455678843717, 59.0, 0.47784313725490196, (-0.077477910735849531, 0.080458386793397715), 0.39151208220063244, 147)\n",
      "contcont (30.672577319587628, 8.0, 48.608183208187519, 179.0, 0.65088062622309195, (-0.0748179801598578, 0.091121674199407587), 0.048698401295471434, 361)\n",
      "locorg (21.514037985136252, 11.0, 25.91720462840906, 125.54999999999973, 0.7290849673202614, (nan, 1.0), nan, 558)\n",
      "procres (25.189669421487604, 12.0, 27.989652321541982, 99.0, 0.50078431372549026, (-0.07320787067266385, 0.09865156203155169), 0.090982170121922029, 158)\n"
     ]
    },
    {
     "name": "stderr",
     "output_type": "stream",
     "text": [
      "/Users/hmartine/anaconda3/lib/python3.5/site-packages/numpy/core/_methods.py:59: RuntimeWarning: Mean of empty slice.\n",
      "  warnings.warn(\"Mean of empty slice.\", RuntimeWarning)\n"
     ]
    }
   ],
   "source": [
    "datataframes = [animeat, artinfo, contcont, locorg, procres]\n",
    "names = ['animeat', 'artinfo', 'contcont', 'locorg','procres']\n",
    "instancedicts = {}\n",
    "for dataframe,name in zip(datataframes,names):\n",
    "    instancedicts[name] = CreateInstanceDict(dataframe)\n",
    "    \n",
    "for k in sorted(instancedicts.keys()):\n",
    "    print(k,ReportDataset(instancedicts[k]))\n",
    "    "
   ]
  },
  {
   "cell_type": "code",
   "execution_count": 113,
   "metadata": {
    "collapsed": false
   },
   "outputs": [
    {
     "data": {
      "text/plain": [
       "'From here we can see that all datasets have a different ... AND very different mean annotation time.'"
      ]
     },
     "execution_count": 113,
     "metadata": {},
     "output_type": "execute_result"
    }
   ],
   "source": [
    "\"From here we can see that all datasets have a different ... AND very different mean annotation time.\"\n"
   ]
  },
  {
   "cell_type": "code",
   "execution_count": 114,
   "metadata": {
    "collapsed": false,
    "scrolled": true
   },
   "outputs": [
    {
     "ename": "TypeError",
     "evalue": "getLiteral() missing 1 required positional argument: 'inputlist'",
     "output_type": "error",
     "traceback": [
      "\u001b[0;31m---------------------------------------------------------------------------\u001b[0m",
      "\u001b[0;31mTypeError\u001b[0m                                 Traceback (most recent call last)",
      "\u001b[0;32m<ipython-input-114-d12658534635>\u001b[0m in \u001b[0;36m<module>\u001b[0;34m()\u001b[0m\n\u001b[1;32m      1\u001b[0m \u001b[0;32mfor\u001b[0m \u001b[0mx\u001b[0m \u001b[0;32min\u001b[0m \u001b[0;34m[\u001b[0m\u001b[0manimeat\u001b[0m\u001b[0;34m,\u001b[0m \u001b[0martinfo\u001b[0m\u001b[0;34m,\u001b[0m \u001b[0mcontcont\u001b[0m\u001b[0;34m,\u001b[0m \u001b[0mlocorg\u001b[0m\u001b[0;34m,\u001b[0m\u001b[0mprocres\u001b[0m\u001b[0;34m]\u001b[0m\u001b[0;34m:\u001b[0m\u001b[0;34m\u001b[0m\u001b[0m\n\u001b[0;32m----> 2\u001b[0;31m     \u001b[0mlit\u001b[0m \u001b[0;34m=\u001b[0m \u001b[0mgetLiteral\u001b[0m\u001b[0;34m(\u001b[0m\u001b[0;34m)\u001b[0m\u001b[0;34m\u001b[0m\u001b[0m\n\u001b[0m\u001b[1;32m      3\u001b[0m     \u001b[0mprint\u001b[0m\u001b[0;34m(\u001b[0m\u001b[0mpearsonr\u001b[0m\u001b[0;34m(\u001b[0m\u001b[0mlit\u001b[0m\u001b[0;34m,\u001b[0m\u001b[0mnp\u001b[0m\u001b[0;34m.\u001b[0m\u001b[0marray\u001b[0m\u001b[0;34m(\u001b[0m\u001b[0mx\u001b[0m\u001b[0;34m.\u001b[0m\u001b[0mWorkTimeInSeconds\u001b[0m\u001b[0;34m)\u001b[0m\u001b[0;34m)\u001b[0m\u001b[0;34m)\u001b[0m\u001b[0;34m\u001b[0m\u001b[0m\n",
      "\u001b[0;31mTypeError\u001b[0m: getLiteral() missing 1 required positional argument: 'inputlist'"
     ]
    }
   ],
   "source": [
    "for x in [animeat, artinfo, contcont, locorg,procres]:\n",
    "    lit = getLiteral()\n",
    "    print(pearsonr(lit,np.array(x.WorkTimeInSeconds)))"
   ]
  },
  {
   "cell_type": "code",
   "execution_count": null,
   "metadata": {
    "collapsed": true
   },
   "outputs": [],
   "source": []
  },
  {
   "cell_type": "code",
   "execution_count": null,
   "metadata": {
    "collapsed": true
   },
   "outputs": [],
   "source": []
  }
 ],
 "metadata": {
  "kernelspec": {
   "display_name": "Python 3",
   "language": "python",
   "name": "python3"
  },
  "language_info": {
   "codemirror_mode": {
    "name": "ipython",
    "version": 3
   },
   "file_extension": ".py",
   "mimetype": "text/x-python",
   "name": "python",
   "nbconvert_exporter": "python",
   "pygments_lexer": "ipython3",
   "version": "3.5.1"
  }
 },
 "nbformat": 4,
 "nbformat_minor": 0
}
