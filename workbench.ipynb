{
 "cells": [
  {
   "cell_type": "code",
   "execution_count": 158,
   "metadata": {
    "collapsed": true
   },
   "outputs": [],
   "source": [
    "import pandas as pd\n",
    "import numpy as np\n",
    "import itertools\n",
    "from collections import Counter\n",
    "from scipy.stats import pearsonr as pearsonr\n",
    "from scipy.stats import skew as skew\n",
    "import math\n",
    "\n"
   ]
  },
  {
   "cell_type": "code",
   "execution_count": 159,
   "metadata": {
    "collapsed": false
   },
   "outputs": [],
   "source": [
    "def y_Ao(annotations):\n",
    "    total = 0.0\n",
    "    pairings = [x for x in itertools.combinations(annotations,2)]\n",
    "    for a1,a2 in pairings:\n",
    "        total+=int(a1==a2)\n",
    "    return total / len(pairings)\n",
    "\n",
    "\n",
    "def cleanstring(s):\n",
    "    if type(s) == float or type(s) == int:\n",
    "        if math.isnan(s):\n",
    "            return \"\"\n",
    "    if not s:\n",
    "        return \"\"\n",
    "    s = str(s).strip()\n",
    "    s = s.replace(\"&#44\",\", \")\n",
    "    if not s:\n",
    "        return \"\"\n",
    "    else:\n",
    "        return s\n",
    "\n",
    "class AnnotatedInstance:\n",
    "    def __init__(self):\n",
    "        self.leftcontext = ''\n",
    "        self.rightcontext = ''\n",
    "        self.headword = ''\n",
    "        self.labels = []\n",
    "        self.times = []\n",
    "        \n",
    "    def length(self):\n",
    "        return len((str(self.leftcontext)+\" \"+str(self.rightcontext)).split())\n",
    "    \n",
    "    def Ao(self):\n",
    "        return y_Ao(self.labels)\n",
    "    \n",
    "    def avg_time(self,threshold=100):\n",
    "        return [x for x in self.times if x < threshold]\n",
    "    \n",
    "    def _normlabels(self):\n",
    "        d = {}\n",
    "        d['ANIM']='LIT'\n",
    "        d['Category1']='LIT'\n",
    "        \n",
    "        d['MEAT']='MET'\n",
    "        d['Categpory2']='MET'\n",
    "        d['Category2']='MET'\n",
    "        \n",
    "        d['DOT']='DOT'\n",
    "        d['Category4']='DOT'\n",
    "        d['Category3']='DOT'\n",
    "        return [d[x] for x in self.labels]\n",
    "    \n",
    "    def label(self):\n",
    "        #LIT, MET, DOT\n",
    "        normlabels = self._normlabels()\n",
    "        if normlabels.count('LIT') > normlabels.count('MET') and normlabels.count('DOT') <= normlabels.count('LIT'):\n",
    "            return 'LIT'\n",
    "        if normlabels.count('MET') > normlabels.count('LIT') and normlabels.count('DOT') <= normlabels.count('MET'):\n",
    "            return 'MET'\n",
    "        else:\n",
    "            return 'DOT'\n",
    "        \n",
    "    def __str__(self):\n",
    "        return '-'.join([i for i in [self.leftcontext,self.headword,self.rightcontext]+self.labels+[str(x) for x in self.times]])\n",
    "    \n",
    "    \n",
    "def CreateInstanceDict(dataframe):\n",
    "    instancedict = {}\n",
    "    for hitid in set(dataframe.Input_globalindex):\n",
    "        inst = AnnotatedInstance()\n",
    "        inst.times = list(dataframe[dataframe.Input_globalindex==hitid].WorkTimeInSeconds)\n",
    "        inst.labels = list(dataframe[dataframe.Input_globalindex==hitid].Answer_Category)\n",
    "        inst.leftcontext = cleanstring(list(dataframe[dataframe.Input_globalindex==hitid].Input_lleftcontext)[0])\n",
    "        inst.rightcontext = cleanstring(list(dataframe[dataframe.Input_globalindex==hitid].Input_lrightcontext)[0])\n",
    "        inst.headword = cleanstring(list(dataframe[dataframe.Input_globalindex==hitid].Input_lheadword)[0])\n",
    "        instancedict[hitid]=inst\n",
    "    return instancedict\n",
    "    \n",
    "def CreateInstanceDict2(dataframe):\n",
    "    instancedict = {}\n",
    "    for hitid in set(dataframe.HITId):\n",
    "        inst = AnnotatedInstance()\n",
    "        inst.times = list(dataframe[dataframe.HITId==hitid].WorkTimeInSeconds)\n",
    "        inst.labels = list(dataframe[dataframe.HITId==hitid].Answer_Category)\n",
    "        inst.leftcontext = cleanstring(list(dataframe[dataframe.HITId==hitid].Input_lleftcontext)[0])\n",
    "        inst.rightcontext = cleanstring(list(dataframe[dataframe.HITId==hitid].Input_lrightcontext)[0])\n",
    "        inst.headword = cleanstring(list(dataframe[dataframe.HITId==hitid].Input_lheadword)[0])\n",
    "        instancedict[hitid]=inst\n",
    "    return instancedict\n",
    "        \n",
    "\n",
    "def Datasettime(instancedict):\n",
    "    t =[]\n",
    "    for k in instancedict:\n",
    "        t.extend(instancedict[k].times)\n",
    "    return t\n",
    "    \n",
    "def ReportDataset(instancedict):\n",
    "    alltimes = Datasettime(instancedict)\n",
    "    percentile95 =  np.percentile(alltimes, 95) #right-hand outliers filtered, remove anything above the 95th percentile\n",
    "    alltimes= [x for x in alltimes if x < percentile95]\n",
    "    \n",
    "    mean = np.mean(alltimes)\n",
    "    median = np.median(alltimes)\n",
    "    std = np.std(alltimes)\n",
    "    Ao_indiv_list = [instancedict[k].Ao() for k in instancedict.keys()]\n",
    "    Ao_avg = np.mean(Ao_indiv_list)\n",
    "    time_indiv_list =  [np.mean(instancedict[k].avg_time(percentile95)) for k in instancedict.keys()]\n",
    "    lenghts = [instancedict[k].length() for k in instancedict.keys()]\n",
    "    labels = [instancedict[k].label() for k in instancedict.keys()]\n",
    "    #return (mean, median, std,percentile95,Ao_avg,pearsonr(Ao_indiv_list,time_indiv_list),pearsonr(lenghts,time_indiv_list)[0],Counter(labels)['LIT'])\n",
    "    return (pearsonr(Ao_indiv_list,time_indiv_list)[0],pearsonr(lenghts,time_indiv_list)[0],Counter(labels)['LIT'])\n",
    "\n",
    "\n",
    "def getLiteral(inputlist):\n",
    "    litlabels = ['Category1', 'ANIM']\n",
    "    return [int(x in litlabels) for x in inputlist]\n",
    "\n"
   ]
  },
  {
   "cell_type": "code",
   "execution_count": 160,
   "metadata": {
    "collapsed": false
   },
   "outputs": [],
   "source": [
    "animeat = pd.read_csv('data/raw/animeatbatchresults.csv')\n",
    "contcont = pd.read_csv('data/raw/container_5turks.tab.csv',sep='\\t')\n",
    "artinfo = pd.read_csv('data/raw/artinfo_mturk_500.tab.csv',sep='\\t')\n",
    "procres = pd.read_csv('data/raw/procres_mturk.tab.csv',sep='\\t')\n",
    "locorg = pd.read_csv('data/raw/locorg_5turks.tab.csv',sep='\\t')"
   ]
  },
  {
   "cell_type": "code",
   "execution_count": 161,
   "metadata": {
    "collapsed": false
   },
   "outputs": [
    {
     "name": "stdout",
     "output_type": "stream",
     "text": [
      "(-0.060481137096010773, 0.063840031407057574, 313)\n"
     ]
    }
   ],
   "source": [
    "instancedict = CreateInstanceDict(locorg)\n",
    "print(ReportDataset(instancedict))\n",
    "\n",
    "for k in instancedict.keys():\n",
    "    try:\n",
    "        str(instancedict[k])\n",
    "    except:\n",
    "        print(\"error error error\",k)\n",
    "\n"
   ]
  },
  {
   "cell_type": "code",
   "execution_count": 162,
   "metadata": {
    "collapsed": false
   },
   "outputs": [
    {
     "name": "stdout",
     "output_type": "stream",
     "text": [
      "animeat (-0.37962472276825499, 0.30349345562040353, 362)\n",
      "artinfo (-0.077477910735849531, 0.3961781984082135, 147)\n",
      "contcont (-0.074817980159857786, 0.052722076290081826, 361)\n",
      "locorg (-0.060481137096010773, 0.063840031407057574, 313)\n",
      "procres (-0.073207870672663863, 0.10057235289900356, 158)\n"
     ]
    }
   ],
   "source": [
    "datataframes = [animeat, artinfo, contcont, locorg, procres]\n",
    "names = ['animeat', 'artinfo', 'contcont', 'locorg','procres']\n",
    "instancedicts = {}\n",
    "for dataframe,name in zip(datataframes,names):\n",
    "    instancedicts[name] = CreateInstanceDict(dataframe)\n",
    "    \n",
    "for k in sorted(instancedicts.keys()):\n",
    "    print(k,ReportDataset(instancedicts[k]))\n"
   ]
  },
  {
   "cell_type": "code",
   "execution_count": 163,
   "metadata": {
    "collapsed": false
   },
   "outputs": [
    {
     "data": {
      "text/plain": [
       "'From here we can see that all datasets have a different ... AND very different mean annotation time.'"
      ]
     },
     "execution_count": 163,
     "metadata": {},
     "output_type": "execute_result"
    }
   ],
   "source": [
    "\"From here we can see that all datasets have a different ... AND very different mean annotation time.\"\n"
   ]
  },
  {
   "cell_type": "code",
   "execution_count": 164,
   "metadata": {
    "collapsed": false,
    "scrolled": true
   },
   "outputs": [
    {
     "ename": "TypeError",
     "evalue": "getLiteral() missing 1 required positional argument: 'inputlist'",
     "output_type": "error",
     "traceback": [
      "\u001b[0;31m---------------------------------------------------------------------------\u001b[0m",
      "\u001b[0;31mTypeError\u001b[0m                                 Traceback (most recent call last)",
      "\u001b[0;32m<ipython-input-164-d12658534635>\u001b[0m in \u001b[0;36m<module>\u001b[0;34m()\u001b[0m\n\u001b[1;32m      1\u001b[0m \u001b[0;32mfor\u001b[0m \u001b[0mx\u001b[0m \u001b[0;32min\u001b[0m \u001b[0;34m[\u001b[0m\u001b[0manimeat\u001b[0m\u001b[0;34m,\u001b[0m \u001b[0martinfo\u001b[0m\u001b[0;34m,\u001b[0m \u001b[0mcontcont\u001b[0m\u001b[0;34m,\u001b[0m \u001b[0mlocorg\u001b[0m\u001b[0;34m,\u001b[0m\u001b[0mprocres\u001b[0m\u001b[0;34m]\u001b[0m\u001b[0;34m:\u001b[0m\u001b[0;34m\u001b[0m\u001b[0m\n\u001b[0;32m----> 2\u001b[0;31m     \u001b[0mlit\u001b[0m \u001b[0;34m=\u001b[0m \u001b[0mgetLiteral\u001b[0m\u001b[0;34m(\u001b[0m\u001b[0;34m)\u001b[0m\u001b[0;34m\u001b[0m\u001b[0m\n\u001b[0m\u001b[1;32m      3\u001b[0m     \u001b[0mprint\u001b[0m\u001b[0;34m(\u001b[0m\u001b[0mpearsonr\u001b[0m\u001b[0;34m(\u001b[0m\u001b[0mlit\u001b[0m\u001b[0;34m,\u001b[0m\u001b[0mnp\u001b[0m\u001b[0;34m.\u001b[0m\u001b[0marray\u001b[0m\u001b[0;34m(\u001b[0m\u001b[0mx\u001b[0m\u001b[0;34m.\u001b[0m\u001b[0mWorkTimeInSeconds\u001b[0m\u001b[0;34m)\u001b[0m\u001b[0;34m)\u001b[0m\u001b[0;34m)\u001b[0m\u001b[0;34m\u001b[0m\u001b[0m\n",
      "\u001b[0;31mTypeError\u001b[0m: getLiteral() missing 1 required positional argument: 'inputlist'"
     ]
    }
   ],
   "source": [
    "for x in [animeat, artinfo, contcont, locorg,procres]:\n",
    "    lit = getLiteral()\n",
    "    print(pearsonr(lit,np.array(x.WorkTimeInSeconds)))"
   ]
  },
  {
   "cell_type": "code",
   "execution_count": null,
   "metadata": {
    "collapsed": true
   },
   "outputs": [],
   "source": []
  },
  {
   "cell_type": "code",
   "execution_count": null,
   "metadata": {
    "collapsed": true
   },
   "outputs": [],
   "source": []
  }
 ],
 "metadata": {
  "kernelspec": {
   "display_name": "Python 3",
   "language": "python",
   "name": "python3"
  },
  "language_info": {
   "codemirror_mode": {
    "name": "ipython",
    "version": 3
   },
   "file_extension": ".py",
   "mimetype": "text/x-python",
   "name": "python",
   "nbconvert_exporter": "python",
   "pygments_lexer": "ipython3",
   "version": "3.5.1"
  }
 },
 "nbformat": 4,
 "nbformat_minor": 0
}
