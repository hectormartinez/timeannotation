{
 "cells": [
  {
   "cell_type": "code",
   "execution_count": 126,
   "metadata": {
    "collapsed": false
   },
   "outputs": [],
   "source": [
    "import pandas as pd\n",
    "import numpy as np\n",
    "import itertools\n",
    "from collections import Counter, defaultdict\n",
    "from scipy.stats import pearsonr as pearsonr\n",
    "from scipy.stats import skew as skew\n",
    "import xml.etree.ElementTree as ET\n",
    "import math\n"
   ]
  },
  {
   "cell_type": "code",
   "execution_count": 127,
   "metadata": {
    "collapsed": false
   },
   "outputs": [],
   "source": [
    "def y_Ao(annotations):\n",
    "    total = 0.0\n",
    "    pairings = [x for x in itertools.combinations(annotations,2)]\n",
    "    for a1,a2 in pairings:\n",
    "        total+=int(a1==a2)\n",
    "    return total / len(pairings)\n",
    "\n",
    "\n",
    "def Datasettime(instancedict):\n",
    "    t =[]\n",
    "    for k in instancedict:\n",
    "        t.extend(instancedict[k].times)\n",
    "    return t\n",
    "    \n",
    "\n",
    "class AnnotatedInstance:\n",
    "    def __init__(self):\n",
    "        self.sentence = ''\n",
    "        self.headword = ''\n",
    "        self.labels = []\n",
    "        self.times = []\n",
    "        self.lemma = ''\n",
    "        self.pos = ''\n",
    "        self.lemmafreq = 0\n",
    "        \n",
    "    def avg_time(self,threshold=999999999999):\n",
    "        return np.mean(self.times)\n",
    "        \n",
    "    def length(self):\n",
    "        return len(self.sentence.split())\n",
    "    \n",
    "    def Ao(self):\n",
    "        return y_Ao(self.labels)\n",
    "    \n",
    "    def __str__(self):\n",
    "        return '-'.join([self.sentence,self.headword,self.rightcontext]+self.labels+[str(x) for x in self.times])\n",
    "    \n",
    "\n",
    "def ReportDataset(instancedict):\n",
    "    alltimes = Datasettime(instancedict)\n",
    "    wordpos=[instancedict[k].lemma+\"_\"+instancedict[k].pos for k in instancedict.keys()][0]\n",
    "    percentile95 =  np.percentile(alltimes, 100) #right-hand outliers filtered, remove anything above the 95th percentile\n",
    "    alltimes= [x for x in alltimes if x < percentile95*4]\n",
    "    mean = np.mean(alltimes)\n",
    "    median = np.median(alltimes)\n",
    "    std = np.std(alltimes)\n",
    "    Ao_indiv_list = [instancedict[k].Ao() for k in instancedict.keys()]\n",
    "    Ao_avg = np.mean(Ao_indiv_list)\n",
    "    time_indiv_list =  [instancedict[k].avg_time() for k in instancedict.keys()]\n",
    "    lengths = [instancedict[k].length() for k in instancedict.keys()]\n",
    "    mean_length = np.mean(lengths)\n",
    "    mean_time = np.mean(time_indiv_list)\n",
    "    \n",
    "    corr_len = [mean_length if math.isnan(x)  else x for x in lengths]\n",
    "    return (wordpos,mean_time,pearsonr(Ao_indiv_list,time_indiv_list)[1],pearsonr(lengths,time_indiv_list)[1],pearsonr(lengths,Ao_indiv_list)[1])\n",
    "\n",
    "    "
   ]
  },
  {
   "cell_type": "code",
   "execution_count": 128,
   "metadata": {
    "collapsed": true
   },
   "outputs": [],
   "source": [
    "instances = defaultdict(AnnotatedInstance)"
   ]
  },
  {
   "cell_type": "code",
   "execution_count": 129,
   "metadata": {
    "collapsed": false
   },
   "outputs": [
    {
     "name": "stdout",
     "output_type": "stream",
     "text": [
      "<Element 'SET' at 0x113efcd68>\n",
      "<Element 'SET' at 0x1144fdf48>\n",
      "<Element 'SET' at 0x116a44f48>\n",
      "<Element 'SET' at 0x116f51f98>\n",
      "<Element 'SET' at 0x113580958>\n"
     ]
    }
   ],
   "source": [
    "\n",
    "freqdict =  pd.read_csv('data/hr_unigrams',sep='\\t')\n",
    "\n",
    "for idx in '1 2 3 4 5'.split():\n",
    "    tree = ET.parse('/Users/hmartine/data/TakeLab-Cro36WSD/annotation_data/annotation_set_'+idx+'.xml')\n",
    "    root = tree.getroot()\n",
    "    print(root)\n",
    "    for instance in root:\n",
    "        ID =  instance.findall(\".//ID\")[0].text\n",
    "        \n",
    "        try:\n",
    "        \n",
    "            for timespent in instance.findall(\".//TIMESPENT\"):\n",
    "                timeval = float(timespent.text)\n",
    "                instances[ID].times.append(timeval)\n",
    "\n",
    "            # = 0.5* (float(instance.findall(\".//TIMESPENT\")[0].text)+float(instance.findall(\".//TIMESPENT\")[1].text))\n",
    "            sentence =  instance.findall(\".//SENTENCE\")[0].text\n",
    "            senseid = instance.findall(\".//SENSEID\")[0].text\n",
    "            \n",
    "            instances[ID].sentence = sentence\n",
    "\n",
    "\n",
    "            #print(sentence,[x.text for x in instance.findall(\".//TIMESPENT\")])\n",
    "            instances[ID].sentence = sentence\n",
    "            instances[ID].headword = instance.findall(\".//TARGETWORD\")[0].text\n",
    "            instances[ID].lemma = instance.findall(\".//TARGETLEMMA\")[0].text\n",
    "            instances[ID].pos = instance.findall(\".//TARGETPOS\")[0].text\n",
    "            instances[ID].labels.append(senseid) #If there is no annotation it has been discarded, which is also an interesting task\n",
    "            instances[ID].lemmafreq = math.log(sum(list(freqdict[freqdict.Lemma==instances[ID].lemma].Freq)))\n",
    "        except:\n",
    "            pass# Maybe store under discarded\n",
    "            \n",
    "\n",
    "keptinstances = defaultdict(AnnotatedInstance)\n",
    "for k in instances.keys():\n",
    "    if len(instances[k].labels) >= 2:\n",
    "           keptinstances[k]=instances[k]\n",
    "\n",
    "\n",
    "            \n"
   ]
  },
  {
   "cell_type": "code",
   "execution_count": 130,
   "metadata": {
    "collapsed": false
   },
   "outputs": [
    {
     "name": "stdout",
     "output_type": "stream",
     "text": [
      "vanjski 5.147494476813453 ('vanjski_a', 6050.1213572555553, 0.023607980368144051, 0.33509732913078383, 0.48384333534958146)\n",
      "osuditi 3.1354942159291497 ('osuditi_v', 6732.2844105013901, 1.0, 0.018935737740882714, 1.0)\n",
      "gorjeti 0 ('gorjeti_v', 5744.7345689981212, 0.00020141491016474624, 0.019201912707892739, 0.77416470146513605)\n",
      "nastaviti 4.2626798770413155 ('nastaviti_v', 6384.1458513066673, 0.99824157939656943, 0.62120028687397144, 0.60100704938566718)\n",
      "normalan 2.302585092994046 ('normalan_a', 9899.9899197528084, 0.042640056862549208, 9.4118834817653063e-07, 0.10860312978448615)\n",
      "oprati 0.0 ('oprati_v', 5229.0666522449619, 1.0, 0.0063480497979314186, 1.0)\n",
      "brusiti 0 ('brusiti_v', 12205.391575212587, 0.0024871567554018152, 0.016367295958378818, 0.67985815013955331)\n",
      "rezerva 0 ('rezerva_n', 6181.4131265307324, 0.73792614663993739, 0.47149798896528683, 0.98506479847448314)\n",
      "lak 0.0 ('lak_a', 10024.99045699212, 0.019545676099322996, 0.59773190358886497, 0.0342493165161767)\n",
      "mrtav 1.0986122886681098 ('mrtav_a', 5158.5719653007081, 0.02504529575226248, 0.15672644045501311, 0.32048926931628441)\n",
      "aktivan 2.0794415416798357 ('aktivan_a', 10520.01247127547, 0.23813801828640449, 0.0080260067186667203, 0.5617339857868523)\n",
      "oštar 3.044522437723423 ('oštar_a', 12819.859719670427, 0.017491401723169771, 0.84037239238357397, 0.011117042707457541)\n",
      "godina 6.7580945044277305 ('godina_n', 9144.0292263238571, 0.071630986385191026, 0.45378647742944955, 0.93941618547214267)\n",
      "kucati 0 ('kucati_v', 6000.9337473569649, 0.19624873812556687, 0.77195466976738769, 0.55104196925882531)\n",
      "povreda 1.0986122886681098 ('povreda_n', 6029.5635615338497, 1.0, 0.1069288842096877, 1.0)\n",
      "zvanje 0 ('zvanje_n', 5993.8722173198194, 3.5807387750371666e-06, 0.022471490145440993, 0.5210556826315802)\n",
      "publika 1.6094379124341003 ('publika_n', 8810.2039230824957, 0.11297546752770077, 0.00056752492040619844, 0.57698622807111632)\n",
      "odlikovati 0.6931471805599453 ('odlikovati_v', 4079.1740281777784, 1.0, 0.037439213973613279, 1.0)\n",
      "vatra 1.6094379124341003 ('vatra_n', 7923.911878421608, 0.0012431140930369974, 0.059454124685471357, 0.29208056846683356)\n",
      "visok 5.0689042022202315 ('visok_a', 11680.179230259231, 0.0017410227071278431, 0.88558961271959724, 0.18304110040480126)\n",
      "siguran 3.5553480614894135 ('siguran_a', 10037.843907718392, 0.033656515104234119, 0.33440320007921198, 0.64407395148478741)\n",
      "prljav 1.0986122886681098 ('prljav_a', 4536.5634302607305, 0.61912029235984001, 0.13044569313793442, 0.65158840833775433)\n",
      "težina 1.9459101490553132 ('težina_n', 6853.78970665, 1.7647383963484647e-09, 0.0029799173421250539, 0.69481473889024636)\n",
      "pasti 1.9459101490553132 ('pasti_v', 18299.696454036835, 1.0297839868150945e-07, 0.050056607127270288, 0.67174447116299607)\n",
      "pokrivač 0.6931471805599453 ('pokrivač_n', 5401.3529345246479, 0.0076662584703200689, 0.1105718356775974, 0.36347012137348678)\n",
      "pojas 1.791759469228055 ('pojas_n', 13503.934745995462, 0.25339885335761558, 0.92225296911141663, 0.99577753274289116)\n",
      "pronaći 3.6375861597263857 ('pronaći_v', 10940.200652185686, 0.10406075089937752, 0.38007968343750897, 0.58609279294590078)\n",
      "tući 0.0 ('tući_v', 9514.8732310646701, 0.0011770497369900626, 0.19735901193481381, 0.76245932365064917)\n",
      "poslužiti 2.1972245773362196 ('poslužiti_v', 8643.0121104455211, 0.027083681584678995, 0.083325887034531074, 0.17688729561428665)\n",
      "pokvaren 0.0 ('pokvaren_a', 8186.1056822909704, 1.0950521216855964e-09, 3.6412258828260145e-07, 0.99529071149326931)\n",
      "dom 3.4965075614664802 ('dom_n', 9160.3640648211749, 0.38694997339500192, 3.1313066465150878e-05, 0.41764095938280654)\n",
      "trag 1.3862943611198906 ('trag_n', 9502.6668363357858, 0.013850042266203373, 0.50728820952728282, 0.89414855765713641)\n",
      "star 3.332204510175204 ('star_a', 12324.378196844333, 0.03221992985104094, 0.73966605215192471, 0.18587278242012389)\n",
      "pažljiv 0 ('pažljiv_a', 6742.7000219890515, 0.0045784424314431211, 0.17263721178211913, 0.66525646568437402)\n",
      "oduzeti 0.0 ('oduzeti_v', 6808.4726061041865, 0.0035737691583301793, 0.21980095425188365, 0.59170532148176647)\n",
      "okvir 3.5553480614894135 ('okvir_n', 5967.8350796408668, 0.00013568294122207546, 0.56879142345314526, 0.45735523416127333)\n"
     ]
    }
   ],
   "source": [
    "bywords = defaultdict(dict)\n",
    "for k in keptinstances.keys():\n",
    "    bywords[keptinstances[k].lemma][k]=keptinstances[k]\n",
    "\n",
    "for word in bywords:\n",
    "    print(word,[bywords[word][x].lemmafreq for x in bywords[word].keys()][0],ReportDataset(bywords[word]))"
   ]
  },
  {
   "cell_type": "code",
   "execution_count": 131,
   "metadata": {
    "collapsed": false
   },
   "outputs": [
    {
     "name": "stdout",
     "output_type": "stream",
     "text": [
      "('težina_n', 8387.1509423716925, 3.6193713156126732e-57, 1.6787405803093101e-16, 0.060741471701289969)\n"
     ]
    }
   ],
   "source": [
    "print(ReportDataset(keptinstances))"
   ]
  },
  {
   "cell_type": "markdown",
   "metadata": {
    "collapsed": true
   },
   "source": [
    "** Ignore the previous stuff, we are going to try a classifier **"
   ]
  },
  {
   "cell_type": "code",
   "execution_count": 132,
   "metadata": {
    "collapsed": false
   },
   "outputs": [
    {
     "ename": "IndentationError",
     "evalue": "unexpected indent (<ipython-input-132-d35638bcbdbb>, line 3)",
     "output_type": "error",
     "traceback": [
      "\u001b[0;36m  File \u001b[0;32m\"<ipython-input-132-d35638bcbdbb>\"\u001b[0;36m, line \u001b[0;32m3\u001b[0m\n\u001b[0;31m    print(root)\u001b[0m\n\u001b[0m    ^\u001b[0m\n\u001b[0;31mIndentationError\u001b[0m\u001b[0;31m:\u001b[0m unexpected indent\n"
     ]
    }
   ],
   "source": [
    "train = ET.parse('/Users/hmartine/data/TakeLab-Cro36WSD/datasets/Cro36WSD-M/train/aktivan-a.xml')\n",
    "root = tree.getroot()\n",
    "    print(root)\n",
    "    for instance in root:\n",
    "        ID =  instance.findall(\".//ID\")[0].text\n",
    "        \n",
    "        try:\n",
    "        \n",
    "            timespent = float(instance.findall(\".//TIMESPENT\")[0].text)\n",
    "            if math.isnan(timespent):\n",
    "                print('nan',idx,ID)\n",
    "            sentence =  instance.findall(\".//SENTENCE\")[0].text\n",
    "            senseid = instance.findall(\".//SENSEID\")[0].text\n",
    "            #print(sentence,[x.text for x in instance.findall(\".//TIMESPENT\")])\n",
    "            instances[ID].times.append(timespent)\n",
    "            instances[ID].sentence = sentence\n",
    "            instances[ID].labels.append(senseid) #If there is no annotation it has been discarded, which is also an interesting task\n",
    "        except:\n",
    "            pass# Maybe store under discarded\n",
    "\n",
    "test = ET.parse('/Users/hmartine/data/TakeLab-Cro36WSD/datasets/Cro36WSD-M/test/aktivan-a.xml')\n"
   ]
  },
  {
   "cell_type": "code",
   "execution_count": null,
   "metadata": {
    "collapsed": true
   },
   "outputs": [],
   "source": []
  },
  {
   "cell_type": "code",
   "execution_count": null,
   "metadata": {
    "collapsed": true
   },
   "outputs": [],
   "source": []
  }
 ],
 "metadata": {
  "kernelspec": {
   "display_name": "Python 3",
   "language": "python",
   "name": "python3"
  },
  "language_info": {
   "codemirror_mode": {
    "name": "ipython",
    "version": 3
   },
   "file_extension": ".py",
   "mimetype": "text/x-python",
   "name": "python",
   "nbconvert_exporter": "python",
   "pygments_lexer": "ipython3",
   "version": "3.5.1"
  }
 },
 "nbformat": 4,
 "nbformat_minor": 0
}
